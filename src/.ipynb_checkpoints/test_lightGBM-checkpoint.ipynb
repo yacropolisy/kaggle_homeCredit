{
 "cells": [
  {
   "cell_type": "markdown",
   "metadata": {},
   "source": [
    "# first model\n",
    "## simle train and test data only  \n",
    "## 5-FoldCV\n"
   ]
  },
  {
   "cell_type": "code",
   "execution_count": 38,
   "metadata": {},
   "outputs": [],
   "source": [
    "import numpy as np\n",
    "import pandas as pd\n",
    "\n",
    "from sklearn.metrics import roc_auc_score, precision_recall_curve, roc_curve, average_precision_score\n",
    "from sklearn.model_selection import KFold\n",
    "from lightgbm import LGBMClassifier\n",
    "\n",
    "import time\n",
    "import gc\n",
    "from tqdm import tqdm"
   ]
  },
  {
   "cell_type": "code",
   "execution_count": 41,
   "metadata": {},
   "outputs": [
    {
     "name": "stdout",
     "output_type": "stream",
     "text": [
      "HomeCredit_columns_description.csv  bureau_balance.csv\r\n",
      "POS_CASH_balance.csv\t\t    credit_card_balance.csv\r\n",
      "application_test.csv\t\t    installments_payments.csv\r\n",
      "application_train.csv\t\t    previous_application.csv\r\n",
      "bureau.csv\t\t\t    sample_submission.csv\r\n"
     ]
    }
   ],
   "source": [
    "!ls ../input"
   ]
  },
  {
   "cell_type": "code",
   "execution_count": 23,
   "metadata": {},
   "outputs": [],
   "source": [
    "pd.options.display.max_columns = None"
   ]
  },
  {
   "cell_type": "code",
   "execution_count": 20,
   "metadata": {},
   "outputs": [
    {
     "data": {
      "text/plain": [
       "6.930710792541504"
      ]
     },
     "execution_count": 20,
     "metadata": {},
     "output_type": "execute_result"
    }
   ],
   "source": [
    "st = time.time()\n",
    "train_df = pd.read_csv('../input/application_train.csv')\n",
    "test_df = pd.read_csv('../input/application_test.csv')\n",
    "time.time() - st"
   ]
  },
  {
   "cell_type": "code",
   "execution_count": 39,
   "metadata": {},
   "outputs": [
    {
     "name": "stderr",
     "output_type": "stream",
     "text": [
      "100%|██████████| 16/16 [00:15<00:00,  1.04it/s]\n"
     ]
    },
    {
     "data": {
      "text/plain": [
       "320"
      ]
     },
     "execution_count": 39,
     "metadata": {},
     "output_type": "execute_result"
    }
   ],
   "source": [
    "all_df = pd.concat([train_df, test_df])\n",
    "n_train = len(train_df)\n",
    "\n",
    "from sklearn.preprocessing import LabelEncoder\n",
    "le = LabelEncoder()\n",
    "categorical_feats = [f for f in all_df.columns if all_df[f].dtype == 'object']\n",
    "for col in tqdm(categorical_feats):\n",
    "    all_df[col] = all_df[col].astype('str')\n",
    "    le.fit(all_df[col])\n",
    "    all_df[col] = le.transform(all_df[col])\n",
    "\n",
    "train_df = all_df[:n_train]\n",
    "test_df = all_df[n_train:].drop('TARGET', axis=1)\n",
    "\n",
    "del all_df\n",
    "gc.collect()"
   ]
  },
  {
   "cell_type": "code",
   "execution_count": null,
   "metadata": {},
   "outputs": [],
   "source": []
  },
  {
   "cell_type": "code",
   "execution_count": 40,
   "metadata": {},
   "outputs": [
    {
     "name": "stdout",
     "output_type": "stream",
     "text": [
      "Training until validation scores don't improve for 100 rounds.\n",
      "[100]\ttraining's auc: 0.751193\tvalid_1's auc: 0.735705\n",
      "[200]\ttraining's auc: 0.773061\tvalid_1's auc: 0.748777\n",
      "[300]\ttraining's auc: 0.786485\tvalid_1's auc: 0.752747\n",
      "[400]\ttraining's auc: 0.79797\tvalid_1's auc: 0.754386\n",
      "[500]\ttraining's auc: 0.808018\tvalid_1's auc: 0.754985\n",
      "[600]\ttraining's auc: 0.817043\tvalid_1's auc: 0.755366\n",
      "[700]\ttraining's auc: 0.825249\tvalid_1's auc: 0.755974\n",
      "[800]\ttraining's auc: 0.833004\tvalid_1's auc: 0.756116\n",
      "[900]\ttraining's auc: 0.840783\tvalid_1's auc: 0.756493\n",
      "Early stopping, best iteration is:\n",
      "[894]\ttraining's auc: 0.840336\tvalid_1's auc: 0.756525\n",
      "Fold  1 AUC : 0.756525\n",
      "Training until validation scores don't improve for 100 rounds.\n",
      "[100]\ttraining's auc: 0.75073\tvalid_1's auc: 0.744334\n",
      "[200]\ttraining's auc: 0.771429\tvalid_1's auc: 0.756288\n",
      "[300]\ttraining's auc: 0.785242\tvalid_1's auc: 0.760466\n",
      "[400]\ttraining's auc: 0.796863\tvalid_1's auc: 0.762183\n",
      "[500]\ttraining's auc: 0.80661\tvalid_1's auc: 0.762872\n",
      "[600]\ttraining's auc: 0.815945\tvalid_1's auc: 0.763341\n",
      "[700]\ttraining's auc: 0.824666\tvalid_1's auc: 0.763608\n",
      "[800]\ttraining's auc: 0.832703\tvalid_1's auc: 0.763903\n",
      "[900]\ttraining's auc: 0.84008\tvalid_1's auc: 0.763907\n",
      "Early stopping, best iteration is:\n",
      "[868]\ttraining's auc: 0.837893\tvalid_1's auc: 0.764031\n",
      "Fold  2 AUC : 0.764031\n",
      "Training until validation scores don't improve for 100 rounds.\n",
      "[100]\ttraining's auc: 0.750849\tvalid_1's auc: 0.741604\n",
      "[200]\ttraining's auc: 0.771871\tvalid_1's auc: 0.753752\n",
      "[300]\ttraining's auc: 0.785715\tvalid_1's auc: 0.758043\n",
      "[400]\ttraining's auc: 0.797255\tvalid_1's auc: 0.759024\n",
      "[500]\ttraining's auc: 0.807693\tvalid_1's auc: 0.759299\n",
      "[600]\ttraining's auc: 0.817055\tvalid_1's auc: 0.759314\n",
      "[700]\ttraining's auc: 0.825632\tvalid_1's auc: 0.759607\n",
      "[800]\ttraining's auc: 0.833687\tvalid_1's auc: 0.759667\n",
      "[900]\ttraining's auc: 0.841033\tvalid_1's auc: 0.759677\n",
      "Early stopping, best iteration is:\n",
      "[828]\ttraining's auc: 0.835844\tvalid_1's auc: 0.759716\n",
      "Fold  3 AUC : 0.759716\n",
      "Training until validation scores don't improve for 100 rounds.\n",
      "[100]\ttraining's auc: 0.74934\tvalid_1's auc: 0.741956\n",
      "[200]\ttraining's auc: 0.770937\tvalid_1's auc: 0.755288\n",
      "[300]\ttraining's auc: 0.784884\tvalid_1's auc: 0.759961\n",
      "[400]\ttraining's auc: 0.796528\tvalid_1's auc: 0.761421\n",
      "[500]\ttraining's auc: 0.806151\tvalid_1's auc: 0.762205\n",
      "[600]\ttraining's auc: 0.81532\tvalid_1's auc: 0.76266\n",
      "[700]\ttraining's auc: 0.824007\tvalid_1's auc: 0.762918\n",
      "[800]\ttraining's auc: 0.832165\tvalid_1's auc: 0.763155\n",
      "Early stopping, best iteration is:\n",
      "[769]\ttraining's auc: 0.829767\tvalid_1's auc: 0.763243\n",
      "Fold  4 AUC : 0.763243\n",
      "Training until validation scores don't improve for 100 rounds.\n",
      "[100]\ttraining's auc: 0.750842\tvalid_1's auc: 0.741632\n",
      "[200]\ttraining's auc: 0.771992\tvalid_1's auc: 0.753392\n",
      "[300]\ttraining's auc: 0.785668\tvalid_1's auc: 0.756852\n",
      "[400]\ttraining's auc: 0.797239\tvalid_1's auc: 0.758478\n",
      "[500]\ttraining's auc: 0.807312\tvalid_1's auc: 0.758924\n",
      "[600]\ttraining's auc: 0.816527\tvalid_1's auc: 0.759063\n",
      "[700]\ttraining's auc: 0.824974\tvalid_1's auc: 0.759264\n",
      "[800]\ttraining's auc: 0.833105\tvalid_1's auc: 0.759488\n",
      "[900]\ttraining's auc: 0.840499\tvalid_1's auc: 0.759317\n",
      "Early stopping, best iteration is:\n",
      "[828]\ttraining's auc: 0.835247\tvalid_1's auc: 0.759536\n",
      "Fold  5 AUC : 0.759536\n",
      "Full AUC score 0.760509\n"
     ]
    },
    {
     "ename": "NameError",
     "evalue": "name 'test_' is not defined",
     "output_type": "error",
     "traceback": [
      "\u001b[0;31m---------------------------------------------------------------------------\u001b[0m",
      "\u001b[0;31mNameError\u001b[0m                                 Traceback (most recent call last)",
      "\u001b[0;32m<ipython-input-40-4f32714e00f4>\u001b[0m in \u001b[0;36m<module>\u001b[0;34m()\u001b[0m\n\u001b[1;32m     49\u001b[0m \u001b[0mprint\u001b[0m\u001b[0;34m(\u001b[0m\u001b[0;34m'Full AUC score %.6f'\u001b[0m \u001b[0;34m%\u001b[0m \u001b[0mroc_auc_score\u001b[0m\u001b[0;34m(\u001b[0m\u001b[0my\u001b[0m\u001b[0;34m,\u001b[0m \u001b[0moof_preds\u001b[0m\u001b[0;34m)\u001b[0m\u001b[0;34m)\u001b[0m\u001b[0;34m\u001b[0m\u001b[0m\n\u001b[1;32m     50\u001b[0m \u001b[0;34m\u001b[0m\u001b[0m\n\u001b[0;32m---> 51\u001b[0;31m \u001b[0mtest_\u001b[0m\u001b[0;34m[\u001b[0m\u001b[0;34m'TARGET'\u001b[0m\u001b[0;34m]\u001b[0m \u001b[0;34m=\u001b[0m \u001b[0msub_preds\u001b[0m\u001b[0;34m\u001b[0m\u001b[0m\n\u001b[0m",
      "\u001b[0;31mNameError\u001b[0m: name 'test_' is not defined"
     ]
    }
   ],
   "source": [
    "oof_preds = np.zeros(train_df.shape[0])\n",
    "sub_preds = np.zeros(test_df.shape[0])\n",
    "\n",
    "feature_importance_df = pd.DataFrame()\n",
    "y = train_df['TARGET'].copy()\n",
    "X = train_df.drop('TARGET', axis = 1)\n",
    "\n",
    "\n",
    "feats =  list(X.columns)\n",
    "\n",
    "folds = KFold(n_splits=5, shuffle=True, random_state=2018)\n",
    "for n_fold, (trn_idx, val_idx) in enumerate(folds.split(X)):\n",
    "    train_X, train_y = X.iloc[trn_idx], y.iloc[trn_idx]\n",
    "    valid_X, valid_y = X.iloc[val_idx], y.iloc[val_idx]\n",
    "\n",
    "    clf = LGBMClassifier(\n",
    "        n_estimators=4000,\n",
    "        learning_rate=0.03,\n",
    "        num_leaves=30,\n",
    "        colsample_bytree=.8,\n",
    "        subsample=.9,\n",
    "        max_depth=7,\n",
    "        reg_alpha=.1,\n",
    "        reg_lambda=.1,\n",
    "        min_split_gain=.01,\n",
    "        min_child_weight=2,\n",
    "        silent=-1,\n",
    "        verbose=-1,\n",
    "    )\n",
    "\n",
    "    clf.fit(train_X, train_y, \n",
    "            eval_set= [(train_X, train_y), (valid_X, valid_y)], \n",
    "            eval_metric='auc', verbose=100, early_stopping_rounds=100  #30\n",
    "           )\n",
    "\n",
    "    oof_preds[val_idx] = clf.predict_proba(valid_X, num_iteration=clf.best_iteration_)[:, 1]\n",
    "    sub_preds += clf.predict_proba(test_df, num_iteration=clf.best_iteration_)[:, 1] / folds.n_splits\n",
    "\n",
    "    fold_importance_df = pd.DataFrame()\n",
    "    fold_importance_df[\"feature\"] = feats\n",
    "    fold_importance_df[\"importance\"] = clf.feature_importances_\n",
    "    fold_importance_df[\"fold\"] = n_fold + 1\n",
    "    feature_importance_df = pd.concat([feature_importance_df, fold_importance_df], axis=0)\n",
    "\n",
    "    print('Fold %2d AUC : %.6f' % (n_fold + 1, roc_auc_score(valid_y, oof_preds[val_idx])))\n",
    "    del clf, train_X, train_y, valid_X, valid_y\n",
    "    gc.collect()\n",
    "\n",
    "print('Full AUC score %.6f' % roc_auc_score(y, oof_preds)) \n",
    "\n",
    "sub = pd.read_csv('../input/sample_submission.csv')\n",
    "sub['TARGET'] = sub_preds\n",
    "\n"
   ]
  },
  {
   "cell_type": "code",
   "execution_count": 43,
   "metadata": {},
   "outputs": [],
   "source": [
    "sub = pd.read_csv('../input/sample_submission.csv')\n",
    "sub['TARGET'] = sub_preds"
   ]
  },
  {
   "cell_type": "code",
   "execution_count": 45,
   "metadata": {},
   "outputs": [],
   "source": [
    "sub.to_csv('./simple5cv_sub.csv', index=None)"
   ]
  }
 ],
 "metadata": {
  "kernelspec": {
   "display_name": "Python 3",
   "language": "python",
   "name": "python3"
  },
  "language_info": {
   "codemirror_mode": {
    "name": "ipython",
    "version": 3
   },
   "file_extension": ".py",
   "mimetype": "text/x-python",
   "name": "python",
   "nbconvert_exporter": "python",
   "pygments_lexer": "ipython3",
   "version": "3.6.5"
  }
 },
 "nbformat": 4,
 "nbformat_minor": 2
}
