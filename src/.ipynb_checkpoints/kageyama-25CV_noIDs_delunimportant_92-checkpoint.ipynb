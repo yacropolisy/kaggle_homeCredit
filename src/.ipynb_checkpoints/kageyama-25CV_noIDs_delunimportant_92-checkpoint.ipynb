{
 "cells": [
  {
   "cell_type": "markdown",
   "metadata": {},
   "source": [
    "# parameter tuned\n",
    "reference : https://www.kaggle.com/znyksh/fork-lightgbm-with-simple-features/versions#base=4143658&new=4153250"
   ]
  },
  {
   "cell_type": "code",
   "execution_count": 1,
   "metadata": {},
   "outputs": [],
   "source": [
    "import numpy as np\n",
    "import pandas as pd\n",
    "\n",
    "from sklearn.metrics import roc_auc_score, precision_recall_curve, roc_curve, average_precision_score\n",
    "from sklearn.model_selection import KFold\n",
    "from lightgbm import LGBMClassifier\n",
    "\n",
    "import time\n",
    "import gc\n",
    "from tqdm import tqdm"
   ]
  },
  {
   "cell_type": "code",
   "execution_count": 2,
   "metadata": {
    "scrolled": true
   },
   "outputs": [
    {
     "name": "stdout",
     "output_type": "stream",
     "text": [
      "aguiar's_kernel.ipynb\r\n",
      "data_visualize.ipynb\r\n",
      "feature_matrix.csv\r\n",
      "feature_selection-feature_by_kageyama-25CV-parameter-by-Ivan_noIDs.ipynb\r\n",
      "feature_selection-feature_by_olivier-25CV-parameter-by-Ivan_noIDs.ipynb\r\n",
      "feature_selection_feature_matrix_by_kageyama.ipynb\r\n",
      "feature_selection_feature_matrix_by_olivier.ipynb\r\n",
      "feature_selection_feature_matrix_noIDs_by_kageyama.ipynb\r\n",
      "featuretools-for-Kageyama.ipynb\r\n",
      "featuretools-for-aguiar.ipynb\r\n",
      "featuretools-for-olivier.ipynb\r\n",
      "featuretools.ipynb\r\n",
      "kageyama-25CV_noIDs_delunimportant_98.ipynb\r\n",
      "kageyama_feature_matrix_25cv_tuned_by_Ivan_sub_noIDs.csv\r\n",
      "kageyama_feature_matrix_25cv_tuned_by_Ivan_sub_noIDs_delmissing_delunimportant_794.csv\r\n",
      "kageyama_feature_matrix_90.0.csv\r\n",
      "kageyama_feature_matrix_92.0.csv\r\n",
      "kageyama_feature_matrix_94.0.csv\r\n",
      "kageyama_feature_matrix_96.0.csv\r\n",
      "kageyama_feature_matrix_98.0.csv\r\n",
      "lgbm_importances.png\r\n",
      "lightGBM-5CV-first-subdata.ipynb\r\n",
      "lightGBM-5CV-first.ipynb\r\n",
      "lightGBM-feature_matrix_by_kageyama-random_grid_search.ipynb\r\n",
      "lightGBM-oliver-random_grid_search.ipynb\r\n",
      "minisize\r\n",
      "new_feature_by_kageyama_feature_matrix.csv\r\n",
      "new_feature_by_kageyama_feature_matrix_noIDs.csv\r\n",
      "new_feature_by_kageyama_feature_matrix_noIDs_delmissing.csv\r\n",
      "new_feature_by_kageyama_feature_matrix_noIDs_delmissing_delunimportant.csv\r\n",
      "new_feature_by_olivier_feature_matrix.csv\r\n",
      "new_feature_by_olivier_feature_matrix_noIDs.csv\r\n",
      "new_feature_by_olivier_feature_matrix_noIDs_delmissing.csv\r\n",
      "new_feature_by_olivier_feature_matrix_noIDs_delmissing_delunimportant.csv\r\n",
      "olivier's_kernel.ipynb\r\n",
      "olivier's_kernel_parameter_with_random_grid_search.ipynb\r\n",
      "olivier_feature_matrix_90.0.csv\r\n",
      "olivier_feature_matrix_92.0.csv\r\n",
      "olivier_feature_matrix_94.0.csv\r\n",
      "olivier_feature_matrix_96.0.csv\r\n",
      "olivier_feature_matrix_98.0.csv\r\n",
      "preprocecced_by_aguiar_feature_matrix.csv\r\n",
      "recall_precision_curve.png\r\n",
      "roc_curve.png\r\n",
      "simple_sub.csv\r\n",
      "submissions\r\n",
      "test_lightGBM.ipynb\r\n",
      "using_feature_matrix-feature_by_kageyama-25CV-parameter-by-Ivan.ipynb\r\n",
      "using_feature_matrix-feature_by_kageyama-25CV-parameter-by-Ivan_noIDs.ipynb\r\n",
      "using_feature_matrix-feature_by_kageyama-25CV-parameter-by-Ivan_noIDs_delmissing_delunimportant.ipynb\r\n",
      "using_feature_matrix-feature_by_kageyama-25CV.ipynb\r\n",
      "using_feature_matrix-feature_by_olivier-25CV.ipynb\r\n",
      "using_feature_matrix-feature_by_olivier.ipynb\r\n",
      "using_feature_matrix-preprocecced_by_aguiar.ipynb\r\n",
      "using_feature_matrix.ipynb\r\n"
     ]
    }
   ],
   "source": [
    "!ls"
   ]
  },
  {
   "cell_type": "code",
   "execution_count": null,
   "metadata": {},
   "outputs": [],
   "source": [
    "st = time.time()\n",
    "df = pd.read_csv('./kageyama_feature_matrix_92.0.csv')\n",
    "time.time() - st"
   ]
  },
  {
   "cell_type": "code",
   "execution_count": null,
   "metadata": {},
   "outputs": [],
   "source": [
    "df = df.drop('SK_ID_CURR', axis=1)"
   ]
  },
  {
   "cell_type": "code",
   "execution_count": null,
   "metadata": {},
   "outputs": [],
   "source": [
    "from sklearn.preprocessing import LabelEncoder\n",
    "le = LabelEncoder()\n",
    "categorical_feats = [f for f in df.columns if df[f].dtype == 'object']\n",
    "for col in tqdm(categorical_feats):\n",
    "    if col == 'set' :\n",
    "        continue\n",
    "    df[col] = df[col].astype('str')\n",
    "    le.fit(df[col])\n",
    "    df[col] = le.transform(df[col])\n",
    "train_df = df.loc[df['set'] == 'train'] .drop('set', axis = 1)\n",
    "test_df = df.loc[df['set'] == 'test'] .drop(['set', 'TARGET'], axis=1)\n",
    "\n",
    "del df\n",
    "gc.collect()"
   ]
  },
  {
   "cell_type": "code",
   "execution_count": null,
   "metadata": {},
   "outputs": [],
   "source": [
    "oof_preds = np.zeros(train_df.shape[0])\n",
    "sub_preds = np.zeros(test_df.shape[0])\n",
    "\n",
    "feature_importance_df = pd.DataFrame()\n",
    "y = train_df['TARGET'].copy()\n",
    "X = train_df.drop('TARGET', axis = 1)\n",
    "\n",
    "\n",
    "feats =  list(X.columns)\n",
    "\n",
    "folds = KFold(n_splits=25, shuffle=True, random_state=2018)\n",
    "for n_fold, (trn_idx, val_idx) in enumerate(folds.split(X)):\n",
    "    train_X, train_y = X.iloc[trn_idx], y.iloc[trn_idx]\n",
    "    valid_X, valid_y = X.iloc[val_idx], y.iloc[val_idx]\n",
    "\n",
    "    clf = LGBMClassifier(\n",
    "        n_estimators=4000,\n",
    "        learning_rate=0.02,\n",
    "        num_leaves=32,\n",
    "        colsample_bytree=.8,\n",
    "        subsample=.87,\n",
    "        max_depth=8,\n",
    "        reg_alpha=.0415,\n",
    "        reg_lambda=.0735,\n",
    "        min_split_gain=.02,\n",
    "        min_child_weight=40,\n",
    "        silent=-1,\n",
    "        verbose=-1,\n",
    "    )\n",
    "\n",
    "    clf.fit(train_X, train_y, \n",
    "            eval_set= [(train_X, train_y), (valid_X, valid_y)], \n",
    "            eval_metric='auc', verbose=100, early_stopping_rounds=100  #30\n",
    "           )\n",
    "\n",
    "    oof_preds[val_idx] = clf.predict_proba(valid_X, num_iteration=clf.best_iteration_)[:, 1]\n",
    "    sub_preds += clf.predict_proba(test_df, num_iteration=clf.best_iteration_)[:, 1] / folds.n_splits\n",
    "\n",
    "    fold_importance_df = pd.DataFrame()\n",
    "    fold_importance_df[\"feature\"] = feats\n",
    "    fold_importance_df[\"importance\"] = clf.feature_importances_\n",
    "    fold_importance_df[\"fold\"] = n_fold + 1\n",
    "    feature_importance_df = pd.concat([feature_importance_df, fold_importance_df], axis=0)\n",
    "\n",
    "    print('Fold %2d AUC : %.6f' % (n_fold + 1, roc_auc_score(valid_y, oof_preds[val_idx])))\n",
    "    del clf, train_X, train_y, valid_X, valid_y\n",
    "    gc.collect()\n",
    "\n",
    "print('Full AUC score %.6f' % roc_auc_score(y, oof_preds)) \n",
    "\n",
    "sub = pd.read_csv('../input/sample_submission.csv')\n",
    "sub['TARGET'] = sub_preds\n",
    "\n"
   ]
  },
  {
   "cell_type": "code",
   "execution_count": null,
   "metadata": {},
   "outputs": [],
   "source": [
    "sub.to_csv('./kageyama_92_sub.csv', index=None)"
   ]
  },
  {
   "cell_type": "code",
   "execution_count": null,
   "metadata": {},
   "outputs": [],
   "source": [
    "import matplotlib.pyplot as plt\n",
    "%matplotlib inline\n",
    "import seaborn as sns\n",
    "\n",
    "def display_importances(feature_importance_df_):\n",
    "    # Plot feature importances\n",
    "    cols = feature_importance_df_[[\"feature\", \"importance\"]].groupby(\"feature\").mean().sort_values(\n",
    "        by=\"importance\", ascending=False)[:50].index\n",
    "    \n",
    "    best_features = feature_importance_df_.loc[feature_importance_df_.feature.isin(cols)]\n",
    "    \n",
    "    plt.figure(figsize=(8,10))\n",
    "    sns.barplot(x=\"importance\", y=\"feature\", \n",
    "                data=best_features.sort_values(by=\"importance\", ascending=False))\n",
    "    plt.title('LightGBM Features (avg over folds)')\n",
    "    plt.tight_layout()\n"
   ]
  },
  {
   "cell_type": "code",
   "execution_count": null,
   "metadata": {},
   "outputs": [],
   "source": [
    "display_importances(feature_importance_df)"
   ]
  },
  {
   "cell_type": "code",
   "execution_count": null,
   "metadata": {},
   "outputs": [],
   "source": [
    "time.time() - st"
   ]
  }
 ],
 "metadata": {
  "kernelspec": {
   "display_name": "Python 3",
   "language": "python",
   "name": "python3"
  },
  "language_info": {
   "codemirror_mode": {
    "name": "ipython",
    "version": 3
   },
   "file_extension": ".py",
   "mimetype": "text/x-python",
   "name": "python",
   "nbconvert_exporter": "python",
   "pygments_lexer": "ipython3",
   "version": "3.6.5"
  }
 },
 "nbformat": 4,
 "nbformat_minor": 2
}
