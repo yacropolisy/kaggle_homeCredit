{
 "cells": [
  {
   "cell_type": "code",
   "execution_count": 1,
   "metadata": {},
   "outputs": [],
   "source": [
    "import pandas as pd\n",
    "import numpy as np"
   ]
  },
  {
   "cell_type": "code",
   "execution_count": 2,
   "metadata": {},
   "outputs": [
    {
     "name": "stdout",
     "output_type": "stream",
     "text": [
      "HomeCredit_columns_description.csv  bureau_balance.csv\r\n",
      "POS_CASH_balance.csv\t\t    credit_card_balance.csv\r\n",
      "application_test.csv\t\t    installments_payments.csv\r\n",
      "application_train.csv\t\t    previous_application.csv\r\n",
      "bureau.csv\t\t\t    sample_submission.csv\r\n"
     ]
    }
   ],
   "source": [
    "!ls ../../input"
   ]
  },
  {
   "cell_type": "code",
   "execution_count": 3,
   "metadata": {},
   "outputs": [],
   "source": [
    "train_df = pd.read_csv(\"../../input/application_train.csv\")\n",
    "test_df  = pd.read_csv(\"../../input/application_test.csv\")"
   ]
  },
  {
   "cell_type": "code",
   "execution_count": 4,
   "metadata": {},
   "outputs": [
    {
     "name": "stdout",
     "output_type": "stream",
     "text": [
      "(307511, 122) (48744, 121)\n"
     ]
    }
   ],
   "source": [
    "print(train_df.shape, test_df.shape)"
   ]
  },
  {
   "cell_type": "code",
   "execution_count": 5,
   "metadata": {},
   "outputs": [
    {
     "name": "stderr",
     "output_type": "stream",
     "text": [
      "/home/yyamada/.pyenv/versions/anaconda3-5.0.1/envs/kaggle/lib/python3.6/site-packages/sklearn/model_selection/_split.py:2026: FutureWarning: From version 0.21, test_size will always complement train_size unless both are specified.\n",
      "  FutureWarning)\n"
     ]
    }
   ],
   "source": [
    "from sklearn.model_selection import train_test_split\n",
    "\n",
    "mini_train_df, _ = train_test_split(train_df, train_size = 50000, random_state = 2)\n",
    "mini_test_df, _ = train_test_split(test_df, train_size = 10000, random_state = 2)"
   ]
  },
  {
   "cell_type": "code",
   "execution_count": 6,
   "metadata": {},
   "outputs": [],
   "source": [
    "mini_train_df.to_csv('./input/application_train.csv', index = False)\n",
    "mini_test_df.to_csv('./input/application_test.csv', index = False)"
   ]
  },
  {
   "cell_type": "code",
   "execution_count": 7,
   "metadata": {},
   "outputs": [
    {
     "data": {
      "text/plain": [
       "(10000, 121)"
      ]
     },
     "execution_count": 7,
     "metadata": {},
     "output_type": "execute_result"
    }
   ],
   "source": [
    "mini_test_df.shape"
   ]
  },
  {
   "cell_type": "code",
   "execution_count": 8,
   "metadata": {},
   "outputs": [
    {
     "data": {
      "text/plain": [
       "(50000, 122)"
      ]
     },
     "execution_count": 8,
     "metadata": {},
     "output_type": "execute_result"
    }
   ],
   "source": [
    "mini_train_df.shape"
   ]
  },
  {
   "cell_type": "code",
   "execution_count": 9,
   "metadata": {},
   "outputs": [],
   "source": [
    "buro_bal = pd.read_csv('../../input/bureau_balance.csv')\n",
    "buro = pd.read_csv('../../input/bureau.csv')\n",
    "prev = pd.read_csv('../../input/previous_application.csv')\n",
    "pos = pd.read_csv('../../input/POS_CASH_balance.csv')\n",
    "cc_bal = pd.read_csv('../../input/credit_card_balance.csv')\n",
    "inst = pd.read_csv('../../input/installments_payments.csv')"
   ]
  },
  {
   "cell_type": "code",
   "execution_count": 10,
   "metadata": {},
   "outputs": [],
   "source": [
    "use_ids = list(mini_train_df['SK_ID_CURR'].unique() ) + list(mini_test_df['SK_ID_CURR'].unique())\n",
    "def extract_related_data(df):\n",
    "    return df.loc[df['SK_ID_CURR'].isin(use_ids)]"
   ]
  },
  {
   "cell_type": "code",
   "execution_count": 11,
   "metadata": {},
   "outputs": [],
   "source": [
    "mini_buro = extract_related_data(buro)\n",
    "mini_prev = extract_related_data(prev)\n",
    "mini_pos = extract_related_data(pos)\n",
    "mini_cc_bal = extract_related_data(cc_bal)\n",
    "mini_inst = extract_related_data(inst)"
   ]
  },
  {
   "cell_type": "code",
   "execution_count": 12,
   "metadata": {},
   "outputs": [],
   "source": [
    "mini_buro_bal = buro_bal.loc[buro_bal['SK_ID_BUREAU'].isin(mini_buro['SK_ID_BUREAU'].unique())]"
   ]
  },
  {
   "cell_type": "code",
   "execution_count": 13,
   "metadata": {},
   "outputs": [],
   "source": [
    "mini_buro.to_csv('./input/bureau.csv', index=False)\n",
    "mini_prev.to_csv('./input/previous_application.csv', index=False)\n",
    "mini_pos.to_csv('./input/POS_CASH_balance.csv', index=False)\n",
    "mini_cc_bal.to_csv('./input/credit_card_balance.csv', index=False)\n",
    "mini_inst.to_csv('./input/installments_payments.csv', index=False)\n",
    "mini_buro_bal.to_csv('./input/bureau_balance.csv', index=False)"
   ]
  },
  {
   "cell_type": "code",
   "execution_count": null,
   "metadata": {},
   "outputs": [],
   "source": []
  }
 ],
 "metadata": {
  "kernelspec": {
   "display_name": "Python 3",
   "language": "python",
   "name": "python3"
  },
  "language_info": {
   "codemirror_mode": {
    "name": "ipython",
    "version": 3
   },
   "file_extension": ".py",
   "mimetype": "text/x-python",
   "name": "python",
   "nbconvert_exporter": "python",
   "pygments_lexer": "ipython3",
   "version": "3.6.5"
  }
 },
 "nbformat": 4,
 "nbformat_minor": 2
}
